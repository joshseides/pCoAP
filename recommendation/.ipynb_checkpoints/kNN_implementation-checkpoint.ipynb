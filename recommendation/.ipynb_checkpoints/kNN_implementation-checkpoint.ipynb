{
 "cells": [
  {
   "cell_type": "markdown",
   "metadata": {},
   "source": [
    "# CS 143 Final Project Recommendation Algorithm Implementation\n",
    "\n",
    "For this project we are using a kNN model to serve as a baseline recommendation algorithm. All predictions will be based off of the MovieLens Data set that contains 27,000,000 ratings and 1,100,000 tag applications applied to 58,000 movies by 280,000 users. Recommendations will be built off of movie ratings. \n",
    "\n",
    "References:\n",
    "\n",
    "(1) https://github.com/KevinLiao159/MyDataSciencePortfolio/blob/master/movie_recommender/movie_recommendation_using_KNN.ipynb\n",
    "\n",
    "(2) https://grouplens.org/datasets/movielens/latest/\n",
    "\n",
    "(3) https://www.geeksforgeeks.org/implementation-k-nearest-neighbors/"
   ]
  },
  {
   "cell_type": "markdown",
   "metadata": {},
   "source": [
    "# 1. Upload Data"
   ]
  },
  {
   "cell_type": "code",
   "execution_count": null,
   "metadata": {
    "collapsed": true
   },
   "outputs": [],
   "source": [
    "import numpy as np\n",
    "import pandas as pd\n",
    "from scipy.sparse import csr_matrix"
   ]
  },
  {
   "cell_type": "code",
   "execution_count": null,
   "metadata": {
    "collapsed": true
   },
   "outputs": [],
   "source": [
    "# import movie data\n",
    "movie_data = pd.read_csv(\"data/movies.csv\",\n",
    "    usecols=['movieId', 'title'],\n",
    "    dtype={'movieId': 'int32', 'title': 'str'})\n",
    "\n",
    "# import corresponding ratings\n",
    "rating_data = pd.read_csv(\"data/ratings.csv\",\n",
    "    usecols=['userId', 'movieId', 'rating'],\n",
    "    dtype={'userId': 'int32', 'movieId': 'int32', 'rating': 'float32'})"
   ]
  },
  {
   "cell_type": "code",
   "execution_count": null,
   "metadata": {},
   "outputs": [],
   "source": [
    "movie_data.head(20)"
   ]
  },
  {
   "cell_type": "code",
   "execution_count": null,
   "metadata": {},
   "outputs": [],
   "source": [
    "rating_data.head()"
   ]
  },
  {
   "cell_type": "code",
   "execution_count": null,
   "metadata": {},
   "outputs": [],
   "source": [
    "print(\"Number of unique movies: \", len(rating_data['movieId'].unique()))\n",
    "print(\"Number of unique users: \", len(rating_data['userId'].unique()))"
   ]
  },
  {
   "cell_type": "markdown",
   "metadata": {},
   "source": [
    "# 2. Clean Data\n",
    "\n",
    "As with all data sets, there are likely points that do not represent the vast majority of users. In this case, there are likely unpopular movies or raters who provide very few ratings. To avoid any skewing in predictions based off this data, we will remove those individuals from the data."
   ]
  },
  {
   "cell_type": "code",
   "execution_count": null,
   "metadata": {
    "collapsed": true
   },
   "outputs": [],
   "source": [
    "# determine least popular movies and drop\n",
    "movies_count = pd.DataFrame(rating_data.groupby('movieId').size(), columns=['count'])\n",
    "popular_movie_ids = movies_count[movies_count['count'] >= 50].index\n",
    "ratings_drop_movies = rating_data[rating_data.movieId.isin(popular_movie_ids)]\n",
    "updated_movie_data = movie_data[movie_data.movieId.isin(popular_movie_ids)]"
   ]
  },
  {
   "cell_type": "code",
   "execution_count": null,
   "metadata": {
    "collapsed": true
   },
   "outputs": [],
   "source": [
    "# determine least active users and drop\n",
    "ratings_count = pd.DataFrame(rating_data.groupby('userId').size(), columns=['count'])\n",
    "active_user_ids = ratings_count[ratings_count['count'] >= 50].index\n",
    "ratings_drop_movies_users = ratings_drop_movies[ratings_drop_movies.userId.isin(active_user_ids)]"
   ]
  },
  {
   "cell_type": "code",
   "execution_count": null,
   "metadata": {},
   "outputs": [],
   "source": [
    "print(\"Original number of ratings: \", rating_data.shape[0])\n",
    "print(\"Dropping unpopular movies number of ratings: \", ratings_drop_movies.shape[0])\n",
    "print(\"Dropping unpopular movies and inactive users number of ratings: \", ratings_drop_movies_users.shape[0])"
   ]
  },
  {
   "cell_type": "code",
   "execution_count": null,
   "metadata": {},
   "outputs": [],
   "source": [
    "print(\"Number of final unique movies: \", len(ratings_drop_movies_users['movieId'].unique()))\n",
    "print(\"Number of final unique users: \", len(ratings_drop_movies_users['userId'].unique()))"
   ]
  },
  {
   "cell_type": "code",
   "execution_count": null,
   "metadata": {},
   "outputs": [],
   "source": [
    "# create movie vs user matrix for kNN computations\n",
    "movie_user_matrix = ratings_drop_movies_users.pivot(index='movieId', columns='userId', values='rating').fillna(0)\n",
    "movie_user_matrix.shape"
   ]
  },
  {
   "cell_type": "markdown",
   "metadata": {},
   "source": [
    "# 3. Implement kNN Model"
   ]
  },
  {
   "cell_type": "code",
   "execution_count": null,
   "metadata": {
    "collapsed": true
   },
   "outputs": [],
   "source": [
    "def euclidean_distance (x,y):\n",
    "    return np.linalg.norm(x-y)"
   ]
  },
  {
   "cell_type": "code",
   "execution_count": null,
   "metadata": {
    "collapsed": true
   },
   "outputs": [],
   "source": [
    "def rec_model (data, num_recs, movie_title, movie_mapping):\n",
    "    \n",
    "    # get movie_id\n",
    "    movie_id = movie_mapping[movie_mapping[\"title\"] == movie_title][\"movieId\"].values[0]\n",
    "    \n",
    "    \n",
    "    # list to save all distances\n",
    "    dists = []\n",
    "    \n",
    "    # iterate over all points in the data set to calculate distance from inputted val\n",
    "    # CAN BE PARALLELIZED\n",
    "    for index, row in data.iterrows():\n",
    "        dist = euclidean_distance(data.loc[movie_id], row)\n",
    "        dists.append((index, dist))\n",
    "        \n",
    "    # sort distances in ascending order\n",
    "    dists.sort(key=lambda x: x[1])\n",
    "    \n",
    "    # trim to num_recs recommendations and drop first \n",
    "    top_movies = dists[1:(num_recs + 1)]\n",
    "    \n",
    "    # map selected movies back to titles\n",
    "    titles = [movie_mapping[movie_mapping[\"movieId\"] == movie[0]][\"title\"].values[0] for movie in top_movies]\n",
    "    \n",
    "    return titles"
   ]
  },
  {
   "cell_type": "code",
   "execution_count": null,
   "metadata": {},
   "outputs": [],
   "source": [
    "rec_model(movie_user_matrix, 10, 'Pocahontas (1995)', movie_data)"
   ]
  },
  {
   "cell_type": "code",
   "execution_count": null,
   "metadata": {
    "collapsed": true
   },
   "outputs": [],
   "source": []
  }
 ],
 "metadata": {
  "kernelspec": {
   "display_name": "Python 3",
   "language": "python",
   "name": "python3"
  },
  "language_info": {
   "codemirror_mode": {
    "name": "ipython",
    "version": 3
   },
   "file_extension": ".py",
   "mimetype": "text/x-python",
   "name": "python",
   "nbconvert_exporter": "python",
   "pygments_lexer": "ipython3",
   "version": "3.7.2"
  }
 },
 "nbformat": 4,
 "nbformat_minor": 2
}
